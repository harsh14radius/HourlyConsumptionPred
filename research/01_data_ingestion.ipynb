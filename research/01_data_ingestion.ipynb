{
 "cells": [
  {
   "cell_type": "code",
   "execution_count": 35,
   "id": "initial_id",
   "metadata": {
    "collapsed": true,
    "ExecuteTime": {
     "end_time": "2023-10-13T08:58:00.724745500Z",
     "start_time": "2023-10-13T08:58:00.719299500Z"
    }
   },
   "outputs": [],
   "source": [
    "import os\n",
    "\n",
    "from pandas.io.parquet import to_parquet"
   ]
  },
  {
   "cell_type": "code",
   "execution_count": 36,
   "outputs": [
    {
     "data": {
      "text/plain": "'D:\\\\HourlyConsumptiomXGboost'"
     },
     "execution_count": 36,
     "metadata": {},
     "output_type": "execute_result"
    }
   ],
   "source": [
    "%pwd\n"
   ],
   "metadata": {
    "collapsed": false,
    "ExecuteTime": {
     "end_time": "2023-10-13T08:58:00.741148300Z",
     "start_time": "2023-10-13T08:58:00.728098700Z"
    }
   },
   "id": "e080638217e7277f"
  },
  {
   "cell_type": "code",
   "execution_count": 37,
   "outputs": [],
   "source": [
    "os.chdir(r\"D:\\HourlyConsumptiomXGboost\")"
   ],
   "metadata": {
    "collapsed": false,
    "ExecuteTime": {
     "end_time": "2023-10-13T08:58:00.760610200Z",
     "start_time": "2023-10-13T08:58:00.737232700Z"
    }
   },
   "id": "c702174d16e376a6"
  },
  {
   "cell_type": "code",
   "execution_count": 38,
   "outputs": [
    {
     "data": {
      "text/plain": "'D:\\\\HourlyConsumptiomXGboost'"
     },
     "execution_count": 38,
     "metadata": {},
     "output_type": "execute_result"
    }
   ],
   "source": [
    "%pwd"
   ],
   "metadata": {
    "collapsed": false,
    "ExecuteTime": {
     "end_time": "2023-10-13T08:58:00.762382700Z",
     "start_time": "2023-10-13T08:58:00.743688300Z"
    }
   },
   "id": "5300418ebf1ea321"
  },
  {
   "cell_type": "code",
   "execution_count": 39,
   "outputs": [],
   "source": [
    "# entity\n",
    "from dataclasses import dataclass\n",
    "from pathlib import Path\n",
    "\n",
    "\n",
    "@dataclass(frozen=True)\n",
    "class DataIngestionConfig:\n",
    "    root_dir: Path\n",
    "    # source_URL:str\n",
    "    local_data_file: Path"
   ],
   "metadata": {
    "collapsed": false,
    "ExecuteTime": {
     "end_time": "2023-10-13T08:58:00.762382700Z",
     "start_time": "2023-10-13T08:58:00.749730300Z"
    }
   },
   "id": "738cce6045e376f1"
  },
  {
   "cell_type": "code",
   "execution_count": 40,
   "outputs": [],
   "source": [
    "from src.mlProject.constants import *\n",
    "from src.mlProject.utils.common import read_yaml, create_directories"
   ],
   "metadata": {
    "collapsed": false,
    "ExecuteTime": {
     "end_time": "2023-10-13T08:58:00.807626100Z",
     "start_time": "2023-10-13T08:58:00.762382700Z"
    }
   },
   "id": "5f6ea6f4f904a0a5"
  },
  {
   "cell_type": "code",
   "execution_count": 41,
   "outputs": [],
   "source": [
    "class ConfigurationManager:\n",
    "    def __init__(\n",
    "        self,\n",
    "        config_filepath = CONFIG_FILE_PATH,\n",
    "        params_filepath = PARAMS_FILE_PATH,\n",
    "        schema_filepath = SCHEMA_FILE_PATH):\n",
    "\n",
    "        self.config = read_yaml(config_filepath)\n",
    "        self.params = read_yaml(params_filepath)\n",
    "        self.schema = read_yaml(schema_filepath)\n",
    "\n",
    "        create_directories([self.config.artifacts_root])\n",
    "\n",
    "\n",
    "    \n",
    "    def get_data_ingestion_config(self) -> DataIngestionConfig:\n",
    "        config = self.config.data_ingestion\n",
    "\n",
    "        create_directories([config.root_dir])\n",
    "\n",
    "        data_ingestion_config = DataIngestionConfig(\n",
    "            root_dir=config.root_dir,\n",
    "            # source_URL=config.source_URL,\n",
    "            local_data_file=config.local_data_file\n",
    "        )\n",
    "\n",
    "        return data_ingestion_config"
   ],
   "metadata": {
    "collapsed": false,
    "ExecuteTime": {
     "end_time": "2023-10-13T08:58:00.808798200Z",
     "start_time": "2023-10-13T08:58:00.770341300Z"
    }
   },
   "id": "1e5bc5a2ae7bb542"
  },
  {
   "cell_type": "code",
   "execution_count": 42,
   "outputs": [],
   "source": [
    "import os\n",
    "import urllib.request as request\n",
    "import pandas as pd\n",
    "from src.mlProject import logger\n",
    "from src.mlProject.utils.common import get_size,get_mongoData\n"
   ],
   "metadata": {
    "collapsed": false,
    "ExecuteTime": {
     "end_time": "2023-10-13T08:58:00.808798200Z",
     "start_time": "2023-10-13T08:58:00.776360100Z"
    }
   },
   "id": "fd7f844aa9137ed0"
  },
  {
   "cell_type": "code",
   "execution_count": 43,
   "outputs": [],
   "source": [
    "class DataIngestion:\n",
    "    def __init__(self, config: DataIngestionConfig):\n",
    "        self.config = config\n",
    "           \n",
    "    def initiateDataIngestion(self):\n",
    "        try:\n",
    "            data = get_mongoData()\n",
    "            logger.info(\"Reading Completed from MongoDB\")\n",
    "            logger.info(\"Writing data in Parquet file\")\n",
    "            data.to_parquet(self.config.local_data_file, index=False, engine='fastparquet')\n",
    "            read_df = pd.read_parquet(self.config.local_data_file)\n",
    "            print(read_df)\n",
    "            \n",
    "        except Exception as e:\n",
    "            print(f\"Error: {e}\")\n",
    "  "
   ],
   "metadata": {
    "collapsed": false,
    "ExecuteTime": {
     "end_time": "2023-10-13T08:58:00.808798200Z",
     "start_time": "2023-10-13T08:58:00.784413400Z"
    }
   },
   "id": "7092d437fa694471"
  },
  {
   "cell_type": "code",
   "execution_count": 44,
   "outputs": [
    {
     "name": "stdout",
     "output_type": "stream",
     "text": [
      "[2023-10-13 14:28:00,794: INFO: common: yaml file: config\\config.yaml loaded successfully]\n",
      "[2023-10-13 14:28:00,796: INFO: common: yaml file: params.yaml loaded successfully]\n",
      "[2023-10-13 14:28:00,797: INFO: common: yaml file: schema.yaml loaded successfully]\n",
      "[2023-10-13 14:28:00,799: INFO: common: created directory at: artifacts]\n",
      "[2023-10-13 14:28:00,800: INFO: common: created directory at: artifacts/data_ingestion]\n",
      "[2023-10-13 14:28:00,802: INFO: common: calling DB configuration]\n",
      "[2023-10-13 14:28:00,802: INFO: common: Reading data from Mongo DB]\n",
      "[2023-10-13 14:28:31,028: INFO: common: Error occurs =========== 13.127.57.185:27017: timed out, Timeout: 30s, Topology Description: <TopologyDescription id: 65290698c336d6e8be458979, topology_type: Unknown, servers: [<ServerDescription ('13.127.57.185', 27017) server_type: Unknown, rtt: None, error=NetworkTimeout('13.127.57.185:27017: timed out')>]>]\n",
      "[2023-10-13 14:28:31,030: INFO: 21609390: Reading Completed from MongoDB]\n",
      "[2023-10-13 14:28:31,031: INFO: 21609390: Writing data in Parquet file]\n",
      "Error: 'NoneType' object has no attribute 'to_parquet'\n"
     ]
    }
   ],
   "source": [
    "try:\n",
    "    config = ConfigurationManager()\n",
    "    data_ingestion_config = config.get_data_ingestion_config()\n",
    "    data_ingestion = DataIngestion(config=data_ingestion_config)\n",
    "    data_ingestion.initiateDataIngestion()\n",
    "    # data_ingestion.extract_zip_file()\n",
    "except Exception as e:\n",
    "    raise e"
   ],
   "metadata": {
    "collapsed": false,
    "ExecuteTime": {
     "end_time": "2023-10-13T08:58:31.045159600Z",
     "start_time": "2023-10-13T08:58:00.788089600Z"
    }
   },
   "id": "23bc1da1d9d65f1"
  },
  {
   "cell_type": "markdown",
   "source": [],
   "metadata": {
    "collapsed": false
   },
   "id": "3dba315d03b3d7e8"
  }
 ],
 "metadata": {
  "kernelspec": {
   "display_name": "Python 3",
   "language": "python",
   "name": "python3"
  },
  "language_info": {
   "codemirror_mode": {
    "name": "ipython",
    "version": 2
   },
   "file_extension": ".py",
   "mimetype": "text/x-python",
   "name": "python",
   "nbconvert_exporter": "python",
   "pygments_lexer": "ipython2",
   "version": "2.7.6"
  }
 },
 "nbformat": 4,
 "nbformat_minor": 5
}
