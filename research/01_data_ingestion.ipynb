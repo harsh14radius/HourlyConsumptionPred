{
 "cells": [
  {
   "cell_type": "code",
   "execution_count": 11,
   "id": "initial_id",
   "metadata": {
    "collapsed": true,
    "ExecuteTime": {
     "end_time": "2023-10-11T12:24:25.482994600Z",
     "start_time": "2023-10-11T12:24:25.447834300Z"
    }
   },
   "outputs": [],
   "source": [
    "import os\n",
    "\n",
    "from pandas.io.parquet import to_parquet"
   ]
  },
  {
   "cell_type": "code",
   "execution_count": 12,
   "outputs": [
    {
     "data": {
      "text/plain": "'D:\\\\HourlyConsumptiomXGboost'"
     },
     "execution_count": 12,
     "metadata": {},
     "output_type": "execute_result"
    }
   ],
   "source": [
    "%pwd\n"
   ],
   "metadata": {
    "collapsed": false,
    "ExecuteTime": {
     "end_time": "2023-10-11T12:24:25.534859200Z",
     "start_time": "2023-10-11T12:24:25.454140100Z"
    }
   },
   "id": "e080638217e7277f"
  },
  {
   "cell_type": "code",
   "execution_count": 13,
   "outputs": [],
   "source": [
    "os.chdir(r\"D:\\HourlyConsumptiomXGboost\")"
   ],
   "metadata": {
    "collapsed": false,
    "ExecuteTime": {
     "end_time": "2023-10-11T12:24:25.535901800Z",
     "start_time": "2023-10-11T12:24:25.462390900Z"
    }
   },
   "id": "c702174d16e376a6"
  },
  {
   "cell_type": "code",
   "execution_count": 14,
   "outputs": [
    {
     "data": {
      "text/plain": "'D:\\\\HourlyConsumptiomXGboost'"
     },
     "execution_count": 14,
     "metadata": {},
     "output_type": "execute_result"
    }
   ],
   "source": [
    "%pwd"
   ],
   "metadata": {
    "collapsed": false,
    "ExecuteTime": {
     "end_time": "2023-10-11T12:24:25.536957500Z",
     "start_time": "2023-10-11T12:24:25.470651900Z"
    }
   },
   "id": "5300418ebf1ea321"
  },
  {
   "cell_type": "code",
   "execution_count": 15,
   "outputs": [],
   "source": [
    "# entity\n",
    "from dataclasses import dataclass\n",
    "from pathlib import Path\n",
    "\n",
    "\n",
    "@dataclass(frozen=True)\n",
    "class DataIngestionConfig:\n",
    "    root_dir: Path\n",
    "    # source_URL:str\n",
    "    local_data_file: Path"
   ],
   "metadata": {
    "collapsed": false,
    "ExecuteTime": {
     "end_time": "2023-10-11T12:24:25.538378900Z",
     "start_time": "2023-10-11T12:24:25.483991500Z"
    }
   },
   "id": "738cce6045e376f1"
  },
  {
   "cell_type": "code",
   "execution_count": 16,
   "outputs": [],
   "source": [
    "from src.mlProject.constants import *\n",
    "from src.mlProject.utils.common import read_yaml, create_directories"
   ],
   "metadata": {
    "collapsed": false,
    "ExecuteTime": {
     "end_time": "2023-10-11T12:24:25.545493900Z",
     "start_time": "2023-10-11T12:24:25.490931400Z"
    }
   },
   "id": "5f6ea6f4f904a0a5"
  },
  {
   "cell_type": "code",
   "execution_count": 17,
   "outputs": [],
   "source": [
    "class ConfigurationManager:\n",
    "    def __init__(\n",
    "        self,\n",
    "        config_filepath = CONFIG_FILE_PATH,\n",
    "        params_filepath = PARAMS_FILE_PATH,\n",
    "        schema_filepath = SCHEMA_FILE_PATH):\n",
    "\n",
    "        self.config = read_yaml(config_filepath)\n",
    "        self.params = read_yaml(params_filepath)\n",
    "        self.schema = read_yaml(schema_filepath)\n",
    "\n",
    "        create_directories([self.config.artifacts_root])\n",
    "\n",
    "\n",
    "    \n",
    "    def get_data_ingestion_config(self) -> DataIngestionConfig:\n",
    "        config = self.config.data_ingestion\n",
    "\n",
    "        create_directories([config.root_dir])\n",
    "\n",
    "        data_ingestion_config = DataIngestionConfig(\n",
    "            root_dir=config.root_dir,\n",
    "            # source_URL=config.source_URL,\n",
    "            local_data_file=config.local_data_file\n",
    "        )\n",
    "\n",
    "        return data_ingestion_config"
   ],
   "metadata": {
    "collapsed": false,
    "ExecuteTime": {
     "end_time": "2023-10-11T12:24:25.546585900Z",
     "start_time": "2023-10-11T12:24:25.497754400Z"
    }
   },
   "id": "1e5bc5a2ae7bb542"
  },
  {
   "cell_type": "code",
   "execution_count": 18,
   "outputs": [],
   "source": [
    "import os\n",
    "import urllib.request as request\n",
    "import pandas as pd\n",
    "from src.mlProject import logger\n",
    "from src.mlProject.utils.common import get_size,get_mongoData\n"
   ],
   "metadata": {
    "collapsed": false,
    "ExecuteTime": {
     "end_time": "2023-10-11T12:24:25.547591600Z",
     "start_time": "2023-10-11T12:24:25.508212600Z"
    }
   },
   "id": "fd7f844aa9137ed0"
  },
  {
   "cell_type": "code",
   "execution_count": 19,
   "outputs": [],
   "source": [
    "class DataIngestion:\n",
    "    def __init__(self, config: DataIngestionConfig):\n",
    "        self.config = config\n",
    "           \n",
    "    def initiateDataIngestion(self):\n",
    "        try:\n",
    "            data = get_mongoData()\n",
    "            logger.info(\"Reading Completed from MongoDB\")\n",
    "            logger.info(\"Writing data in Parquet file\")\n",
    "            data.to_parquet(self.config.local_data_file, index=False, engine='fastparquet')\n",
    "            read_df = pd.read_parquet(self.config.local_data_file)\n",
    "            print(read_df)\n",
    "            \n",
    "        except Exception as e:\n",
    "            print(f\"Error: {e}\")\n",
    "  "
   ],
   "metadata": {
    "collapsed": false,
    "ExecuteTime": {
     "end_time": "2023-10-11T12:24:25.547591600Z",
     "start_time": "2023-10-11T12:24:25.516252300Z"
    }
   },
   "id": "7092d437fa694471"
  },
  {
   "cell_type": "code",
   "execution_count": 20,
   "outputs": [
    {
     "name": "stdout",
     "output_type": "stream",
     "text": [
      "[2023-10-11 17:54:25,525: INFO: common: yaml file: config\\config.yaml loaded successfully]\n",
      "[2023-10-11 17:54:25,527: INFO: common: yaml file: params.yaml loaded successfully]\n",
      "[2023-10-11 17:54:25,529: INFO: common: yaml file: schema.yaml loaded successfully]\n",
      "[2023-10-11 17:54:25,531: INFO: common: created directory at: artifacts]\n",
      "[2023-10-11 17:54:25,532: INFO: common: created directory at: artifacts/data_ingestion]\n",
      "[2023-10-11 17:54:25,534: INFO: common: calling DB configuration]\n",
      "[2023-10-11 17:54:25,535: INFO: common: Reading data from Mongo DB]\n"
     ]
    },
    {
     "name": "stderr",
     "output_type": "stream",
     "text": [
      "--- Logging error ---\n",
      "Traceback (most recent call last):\n",
      "  File \"C:\\Program Files\\Python311\\Lib\\logging\\__init__.py\", line 1110, in emit\n",
      "    msg = self.format(record)\n",
      "          ^^^^^^^^^^^^^^^^^^^\n",
      "  File \"C:\\Program Files\\Python311\\Lib\\logging\\__init__.py\", line 953, in format\n",
      "    return fmt.format(record)\n",
      "           ^^^^^^^^^^^^^^^^^^\n",
      "  File \"C:\\Program Files\\Python311\\Lib\\logging\\__init__.py\", line 687, in format\n",
      "    record.message = record.getMessage()\n",
      "                     ^^^^^^^^^^^^^^^^^^^\n",
      "  File \"C:\\Program Files\\Python311\\Lib\\logging\\__init__.py\", line 377, in getMessage\n",
      "    msg = msg % self.args\n",
      "          ~~~~^~~~~~~~~~~\n",
      "TypeError: not all arguments converted during string formatting\n",
      "Call stack:\n",
      "  File \"<frozen runpy>\", line 198, in _run_module_as_main\n",
      "  File \"<frozen runpy>\", line 88, in _run_code\n",
      "  File \"D:\\HourlyConsumptiomXGboost\\venv\\Lib\\site-packages\\ipykernel_launcher.py\", line 17, in <module>\n",
      "    app.launch_new_instance()\n",
      "  File \"D:\\HourlyConsumptiomXGboost\\venv\\Lib\\site-packages\\traitlets\\config\\application.py\", line 1053, in launch_instance\n",
      "    app.start()\n",
      "  File \"D:\\HourlyConsumptiomXGboost\\venv\\Lib\\site-packages\\ipykernel\\kernelapp.py\", line 736, in start\n",
      "    self.io_loop.start()\n",
      "  File \"D:\\HourlyConsumptiomXGboost\\venv\\Lib\\site-packages\\tornado\\platform\\asyncio.py\", line 195, in start\n",
      "    self.asyncio_loop.run_forever()\n",
      "  File \"C:\\Program Files\\Python311\\Lib\\asyncio\\base_events.py\", line 607, in run_forever\n",
      "    self._run_once()\n",
      "  File \"C:\\Program Files\\Python311\\Lib\\asyncio\\base_events.py\", line 1919, in _run_once\n",
      "    handle._run()\n",
      "  File \"C:\\Program Files\\Python311\\Lib\\asyncio\\events.py\", line 80, in _run\n",
      "    self._context.run(self._callback, *self._args)\n",
      "  File \"D:\\HourlyConsumptiomXGboost\\venv\\Lib\\site-packages\\ipykernel\\kernelbase.py\", line 516, in dispatch_queue\n",
      "    await self.process_one()\n",
      "  File \"D:\\HourlyConsumptiomXGboost\\venv\\Lib\\site-packages\\ipykernel\\kernelbase.py\", line 505, in process_one\n",
      "    await dispatch(*args)\n",
      "  File \"D:\\HourlyConsumptiomXGboost\\venv\\Lib\\site-packages\\ipykernel\\kernelbase.py\", line 412, in dispatch_shell\n",
      "    await result\n",
      "  File \"D:\\HourlyConsumptiomXGboost\\venv\\Lib\\site-packages\\ipykernel\\kernelbase.py\", line 740, in execute_request\n",
      "    reply_content = await reply_content\n",
      "  File \"D:\\HourlyConsumptiomXGboost\\venv\\Lib\\site-packages\\ipykernel\\ipkernel.py\", line 422, in do_execute\n",
      "    res = shell.run_cell(\n",
      "  File \"D:\\HourlyConsumptiomXGboost\\venv\\Lib\\site-packages\\ipykernel\\zmqshell.py\", line 546, in run_cell\n",
      "    return super().run_cell(*args, **kwargs)\n",
      "  File \"D:\\HourlyConsumptiomXGboost\\venv\\Lib\\site-packages\\IPython\\core\\interactiveshell.py\", line 3024, in run_cell\n",
      "    result = self._run_cell(\n",
      "  File \"D:\\HourlyConsumptiomXGboost\\venv\\Lib\\site-packages\\IPython\\core\\interactiveshell.py\", line 3079, in _run_cell\n",
      "    result = runner(coro)\n",
      "  File \"D:\\HourlyConsumptiomXGboost\\venv\\Lib\\site-packages\\IPython\\core\\async_helpers.py\", line 129, in _pseudo_sync_runner\n",
      "    coro.send(None)\n",
      "  File \"D:\\HourlyConsumptiomXGboost\\venv\\Lib\\site-packages\\IPython\\core\\interactiveshell.py\", line 3284, in run_cell_async\n",
      "    has_raised = await self.run_ast_nodes(code_ast.body, cell_name,\n",
      "  File \"D:\\HourlyConsumptiomXGboost\\venv\\Lib\\site-packages\\IPython\\core\\interactiveshell.py\", line 3466, in run_ast_nodes\n",
      "    if await self.run_code(code, result, async_=asy):\n",
      "  File \"D:\\HourlyConsumptiomXGboost\\venv\\Lib\\site-packages\\IPython\\core\\interactiveshell.py\", line 3526, in run_code\n",
      "    exec(code_obj, self.user_global_ns, self.user_ns)\n",
      "  File \"C:\\Users\\Shubham Bhatt\\AppData\\Local\\Temp\\ipykernel_11672\\2064965800.py\", line 5, in <module>\n",
      "    data_ingestion.initiateDataIngestion()\n",
      "  File \"C:\\Users\\Shubham Bhatt\\AppData\\Local\\Temp\\ipykernel_11672\\21609390.py\", line 7, in initiateDataIngestion\n",
      "    data = get_mongoData()\n",
      "  File \"D:\\HourlyConsumptiomXGboost\\venv\\Lib\\site-packages\\ensure\\main.py\", line 807, in __call__\n",
      "    return self.f(*args, **kwargs)\n",
      "  File \"D:\\HourlyConsumptiomXGboost\\src\\mlProject\\utils\\common.py\", line 163, in get_mongoData\n",
      "    db1 = client[db]\n",
      "Message: 'Connection Establish'\n",
      "Arguments: (Collection(Database(MongoClient(host=['localhost:27017'], document_class=dict, tz_aware=False, connect=True), 'PVVNL4'), 'grid_log'),)\n",
      "--- Logging error ---\n",
      "Traceback (most recent call last):\n",
      "  File \"C:\\Program Files\\Python311\\Lib\\logging\\__init__.py\", line 1110, in emit\n",
      "    msg = self.format(record)\n",
      "          ^^^^^^^^^^^^^^^^^^^\n",
      "  File \"C:\\Program Files\\Python311\\Lib\\logging\\__init__.py\", line 953, in format\n",
      "    return fmt.format(record)\n",
      "           ^^^^^^^^^^^^^^^^^^\n",
      "  File \"C:\\Program Files\\Python311\\Lib\\logging\\__init__.py\", line 687, in format\n",
      "    record.message = record.getMessage()\n",
      "                     ^^^^^^^^^^^^^^^^^^^\n",
      "  File \"C:\\Program Files\\Python311\\Lib\\logging\\__init__.py\", line 377, in getMessage\n",
      "    msg = msg % self.args\n",
      "          ~~~~^~~~~~~~~~~\n",
      "TypeError: not all arguments converted during string formatting\n",
      "Call stack:\n",
      "  File \"<frozen runpy>\", line 198, in _run_module_as_main\n",
      "  File \"<frozen runpy>\", line 88, in _run_code\n",
      "  File \"D:\\HourlyConsumptiomXGboost\\venv\\Lib\\site-packages\\ipykernel_launcher.py\", line 17, in <module>\n",
      "    app.launch_new_instance()\n",
      "  File \"D:\\HourlyConsumptiomXGboost\\venv\\Lib\\site-packages\\traitlets\\config\\application.py\", line 1053, in launch_instance\n",
      "    app.start()\n",
      "  File \"D:\\HourlyConsumptiomXGboost\\venv\\Lib\\site-packages\\ipykernel\\kernelapp.py\", line 736, in start\n",
      "    self.io_loop.start()\n",
      "  File \"D:\\HourlyConsumptiomXGboost\\venv\\Lib\\site-packages\\tornado\\platform\\asyncio.py\", line 195, in start\n",
      "    self.asyncio_loop.run_forever()\n",
      "  File \"C:\\Program Files\\Python311\\Lib\\asyncio\\base_events.py\", line 607, in run_forever\n",
      "    self._run_once()\n",
      "  File \"C:\\Program Files\\Python311\\Lib\\asyncio\\base_events.py\", line 1919, in _run_once\n",
      "    handle._run()\n",
      "  File \"C:\\Program Files\\Python311\\Lib\\asyncio\\events.py\", line 80, in _run\n",
      "    self._context.run(self._callback, *self._args)\n",
      "  File \"D:\\HourlyConsumptiomXGboost\\venv\\Lib\\site-packages\\ipykernel\\kernelbase.py\", line 516, in dispatch_queue\n",
      "    await self.process_one()\n",
      "  File \"D:\\HourlyConsumptiomXGboost\\venv\\Lib\\site-packages\\ipykernel\\kernelbase.py\", line 505, in process_one\n",
      "    await dispatch(*args)\n",
      "  File \"D:\\HourlyConsumptiomXGboost\\venv\\Lib\\site-packages\\ipykernel\\kernelbase.py\", line 412, in dispatch_shell\n",
      "    await result\n",
      "  File \"D:\\HourlyConsumptiomXGboost\\venv\\Lib\\site-packages\\ipykernel\\kernelbase.py\", line 740, in execute_request\n",
      "    reply_content = await reply_content\n",
      "  File \"D:\\HourlyConsumptiomXGboost\\venv\\Lib\\site-packages\\ipykernel\\ipkernel.py\", line 422, in do_execute\n",
      "    res = shell.run_cell(\n",
      "  File \"D:\\HourlyConsumptiomXGboost\\venv\\Lib\\site-packages\\ipykernel\\zmqshell.py\", line 546, in run_cell\n",
      "    return super().run_cell(*args, **kwargs)\n",
      "  File \"D:\\HourlyConsumptiomXGboost\\venv\\Lib\\site-packages\\IPython\\core\\interactiveshell.py\", line 3024, in run_cell\n",
      "    result = self._run_cell(\n",
      "  File \"D:\\HourlyConsumptiomXGboost\\venv\\Lib\\site-packages\\IPython\\core\\interactiveshell.py\", line 3079, in _run_cell\n",
      "    result = runner(coro)\n",
      "  File \"D:\\HourlyConsumptiomXGboost\\venv\\Lib\\site-packages\\IPython\\core\\async_helpers.py\", line 129, in _pseudo_sync_runner\n",
      "    coro.send(None)\n",
      "  File \"D:\\HourlyConsumptiomXGboost\\venv\\Lib\\site-packages\\IPython\\core\\interactiveshell.py\", line 3284, in run_cell_async\n",
      "    has_raised = await self.run_ast_nodes(code_ast.body, cell_name,\n",
      "  File \"D:\\HourlyConsumptiomXGboost\\venv\\Lib\\site-packages\\IPython\\core\\interactiveshell.py\", line 3466, in run_ast_nodes\n",
      "    if await self.run_code(code, result, async_=asy):\n",
      "  File \"D:\\HourlyConsumptiomXGboost\\venv\\Lib\\site-packages\\IPython\\core\\interactiveshell.py\", line 3526, in run_code\n",
      "    exec(code_obj, self.user_global_ns, self.user_ns)\n",
      "  File \"C:\\Users\\Shubham Bhatt\\AppData\\Local\\Temp\\ipykernel_11672\\2064965800.py\", line 5, in <module>\n",
      "    data_ingestion.initiateDataIngestion()\n",
      "  File \"C:\\Users\\Shubham Bhatt\\AppData\\Local\\Temp\\ipykernel_11672\\21609390.py\", line 7, in initiateDataIngestion\n",
      "    data = get_mongoData()\n",
      "  File \"D:\\HourlyConsumptiomXGboost\\venv\\Lib\\site-packages\\ensure\\main.py\", line 807, in __call__\n",
      "    return self.f(*args, **kwargs)\n",
      "  File \"D:\\HourlyConsumptiomXGboost\\src\\mlProject\\utils\\common.py\", line 163, in get_mongoData\n",
      "    db1 = client[db]\n",
      "Message: 'Connection Establish'\n",
      "Arguments: (Collection(Database(MongoClient(host=['localhost:27017'], document_class=dict, tz_aware=False, connect=True), 'PVVNL4'), 'grid_log'),)\n"
     ]
    },
    {
     "name": "stdout",
     "output_type": "stream",
     "text": [
      "===============DataType Conversion==================\n",
      "[2023-10-11 17:54:38,344: INFO: 21609390: Reading Completed from MongoDB]\n",
      "[2023-10-11 17:54:38,345: INFO: 21609390: Writing data in Parquet file]\n",
      "          location_id       creation_time  grid_reading_kwh\n",
      "0        500000010032 2021-05-01 00:01:57             460.0\n",
      "1        500000010032 2021-05-01 00:04:01             460.0\n",
      "2        500000010032 2021-05-01 00:06:06             460.0\n",
      "3        500000010032 2021-05-01 00:08:12             460.0\n",
      "4        500000010032 2021-05-01 00:10:17             461.0\n",
      "...               ...                 ...               ...\n",
      "1041507  500000010832 2023-08-17 23:15:33           12398.0\n",
      "1041508  500000010832 2023-08-17 23:25:16           12398.0\n",
      "1041509  500000010832 2023-08-17 23:34:58           12399.0\n",
      "1041510  500000010832 2023-08-17 23:44:44           12399.0\n",
      "1041511  500000010832 2023-08-17 23:54:26           12399.0\n",
      "\n",
      "[1041512 rows x 3 columns]\n"
     ]
    }
   ],
   "source": [
    "try:\n",
    "    config = ConfigurationManager()\n",
    "    data_ingestion_config = config.get_data_ingestion_config()\n",
    "    data_ingestion = DataIngestion(config=data_ingestion_config)\n",
    "    data_ingestion.initiateDataIngestion()\n",
    "    # data_ingestion.extract_zip_file()\n",
    "except Exception as e:\n",
    "    raise e"
   ],
   "metadata": {
    "collapsed": false,
    "ExecuteTime": {
     "end_time": "2023-10-11T12:24:38.978589800Z",
     "start_time": "2023-10-11T12:24:25.524648600Z"
    }
   },
   "id": "23bc1da1d9d65f1"
  },
  {
   "cell_type": "markdown",
   "source": [],
   "metadata": {
    "collapsed": false
   },
   "id": "3dba315d03b3d7e8"
  }
 ],
 "metadata": {
  "kernelspec": {
   "display_name": "Python 3",
   "language": "python",
   "name": "python3"
  },
  "language_info": {
   "codemirror_mode": {
    "name": "ipython",
    "version": 2
   },
   "file_extension": ".py",
   "mimetype": "text/x-python",
   "name": "python",
   "nbconvert_exporter": "python",
   "pygments_lexer": "ipython2",
   "version": "2.7.6"
  }
 },
 "nbformat": 4,
 "nbformat_minor": 5
}
