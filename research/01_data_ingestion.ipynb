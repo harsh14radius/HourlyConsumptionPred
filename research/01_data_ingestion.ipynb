{
 "cells": [
  {
   "cell_type": "code",
   "execution_count": 35,
   "id": "initial_id",
   "metadata": {
    "ExecuteTime": {
     "end_time": "2023-10-13T08:58:00.724745500Z",
     "start_time": "2023-10-13T08:58:00.719299500Z"
    },
    "collapsed": true
   },
   "outputs": [],
   "source": [
    "import os\n",
    "\n",
    "from pandas.io.parquet import to_parquet"
   ]
  },
  {
   "cell_type": "code",
   "execution_count": 36,
   "id": "e080638217e7277f",
   "metadata": {
    "ExecuteTime": {
     "end_time": "2023-10-13T08:58:00.741148300Z",
     "start_time": "2023-10-13T08:58:00.728098700Z"
    },
    "collapsed": false
   },
   "outputs": [
    {
     "data": {
      "text/plain": [
       "'D:\\\\HourlyConsumptiomXGboost'"
      ]
     },
     "execution_count": 36,
     "metadata": {},
     "output_type": "execute_result"
    }
   ],
   "source": [
    "%pwd\n"
   ]
  },
  {
   "cell_type": "code",
   "execution_count": 37,
   "id": "c702174d16e376a6",
   "metadata": {
    "ExecuteTime": {
     "end_time": "2023-10-13T08:58:00.760610200Z",
     "start_time": "2023-10-13T08:58:00.737232700Z"
    },
    "collapsed": false
   },
   "outputs": [],
   "source": [
    "os.chdir(r\"D:\\HourlyConsumptiomXGboost\")"
   ]
  },
  {
   "cell_type": "code",
   "execution_count": 38,
   "id": "5300418ebf1ea321",
   "metadata": {
    "ExecuteTime": {
     "end_time": "2023-10-13T08:58:00.762382700Z",
     "start_time": "2023-10-13T08:58:00.743688300Z"
    },
    "collapsed": false
   },
   "outputs": [
    {
     "data": {
      "text/plain": [
       "'D:\\\\HourlyConsumptiomXGboost'"
      ]
     },
     "execution_count": 38,
     "metadata": {},
     "output_type": "execute_result"
    }
   ],
   "source": [
    "%pwd"
   ]
  },
  {
   "cell_type": "code",
   "execution_count": 39,
   "id": "738cce6045e376f1",
   "metadata": {
    "ExecuteTime": {
     "end_time": "2023-10-13T08:58:00.762382700Z",
     "start_time": "2023-10-13T08:58:00.749730300Z"
    },
    "collapsed": false
   },
   "outputs": [],
   "source": [
    "# entity\n",
    "from dataclasses import dataclass\n",
    "from pathlib import Path\n",
    "\n",
    "\n",
    "@dataclass(frozen=True)\n",
    "class DataIngestionConfig:\n",
    "    root_dir: Path\n",
    "    # source_URL:str\n",
    "    local_data_file: Path"
   ]
  },
  {
   "cell_type": "code",
   "execution_count": 40,
   "id": "5f6ea6f4f904a0a5",
   "metadata": {
    "ExecuteTime": {
     "end_time": "2023-10-13T08:58:00.807626100Z",
     "start_time": "2023-10-13T08:58:00.762382700Z"
    },
    "collapsed": false
   },
   "outputs": [],
   "source": [
    "from src.mlProject.constants import *\n",
    "from src.mlProject.utils.common import read_yaml, create_directories"
   ]
  },
  {
   "cell_type": "code",
   "execution_count": 41,
   "id": "1e5bc5a2ae7bb542",
   "metadata": {
    "ExecuteTime": {
     "end_time": "2023-10-13T08:58:00.808798200Z",
     "start_time": "2023-10-13T08:58:00.770341300Z"
    },
    "collapsed": false
   },
   "outputs": [],
   "source": [
    "class ConfigurationManager:\n",
    "    def __init__(\n",
    "        self,\n",
    "        config_filepath = CONFIG_FILE_PATH,\n",
    "        params_filepath = PARAMS_FILE_PATH,\n",
    "        schema_filepath = SCHEMA_FILE_PATH):\n",
    "\n",
    "        self.config = read_yaml(config_filepath)\n",
    "        self.params = read_yaml(params_filepath)\n",
    "        self.schema = read_yaml(schema_filepath)\n",
    "\n",
    "        create_directories([self.config.artifacts_root])\n",
    "\n",
    "\n",
    "    \n",
    "    def get_data_ingestion_config(self) -> DataIngestionConfig:\n",
    "        config = self.config.data_ingestion\n",
    "\n",
    "        create_directories([config.root_dir])\n",
    "\n",
    "        data_ingestion_config = DataIngestionConfig(\n",
    "            root_dir=config.root_dir,\n",
    "            # source_URL=config.source_URL,\n",
    "            local_data_file=config.local_data_file\n",
    "        )\n",
    "\n",
    "        return data_ingestion_config"
   ]
  },
  {
   "cell_type": "code",
   "execution_count": 42,
   "id": "fd7f844aa9137ed0",
   "metadata": {
    "ExecuteTime": {
     "end_time": "2023-10-13T08:58:00.808798200Z",
     "start_time": "2023-10-13T08:58:00.776360100Z"
    },
    "collapsed": false
   },
   "outputs": [],
   "source": [
    "import os\n",
    "import urllib.request as request\n",
    "import pandas as pd\n",
    "from src.mlProject import logger\n",
    "from src.mlProject.utils.common import get_size,get_mongoData\n"
   ]
  },
  {
   "cell_type": "code",
   "execution_count": null,
   "id": "7092d437fa694471",
   "metadata": {
    "ExecuteTime": {
     "end_time": "2023-10-13T08:58:00.808798200Z",
     "start_time": "2023-10-13T08:58:00.784413400Z"
    },
    "collapsed": false
   },
   "outputs": [],
   "source": [
    "# main classs worklocation\n",
    "class DataIngestion:\n",
    "    def __init__(self, config: DataIngestionConfig):\n",
    "        self.config = config\n",
    "           \n",
    "    def initiateDataIngestion(self):\n",
    "        try:\n",
    "            '''Put all validation in this block'''\n",
    "            \n",
    "            data = get_mongoData()\n",
    "            logger.info(\"Reading Completed from MongoDB\")\n",
    "            logger.info(\"Writing data in Parquet file\")\n",
    "            data.to_parquet(self.config.local_data_file, index=False, engine='fastparquet')\n",
    "            read_df = pd.read_parquet(self.config.local_data_file)\n",
    "            print(read_df)\n",
    "            \n",
    "        except Exception as e:\n",
    "            print(f\"Error: {e}\")\n",
    "  "
   ]
  },
  {
   "cell_type": "code",
   "execution_count": 1,
   "id": "23bc1da1d9d65f1",
   "metadata": {
    "ExecuteTime": {
     "end_time": "2023-10-13T08:58:31.045159600Z",
     "start_time": "2023-10-13T08:58:00.788089600Z"
    },
    "collapsed": false
   },
   "outputs": [
    {
     "ename": "NameError",
     "evalue": "name 'ConfigurationManager' is not defined",
     "output_type": "error",
     "traceback": [
      "\u001b[1;31m---------------------------------------------------------------------------\u001b[0m",
      "\u001b[1;31mNameError\u001b[0m                                 Traceback (most recent call last)",
      "\u001b[1;32md:\\ml_project\\HourlyConsumptionPred\\research\\01_data_ingestion.ipynb Cell 10\u001b[0m line \u001b[0;36m8\n\u001b[0;32m      <a href='vscode-notebook-cell:/d%3A/ml_project/HourlyConsumptionPred/research/01_data_ingestion.ipynb#X12sZmlsZQ%3D%3D?line=5'>6</a>\u001b[0m     \u001b[39m# data_ingestion.extract_zip_file()\u001b[39;00m\n\u001b[0;32m      <a href='vscode-notebook-cell:/d%3A/ml_project/HourlyConsumptionPred/research/01_data_ingestion.ipynb#X12sZmlsZQ%3D%3D?line=6'>7</a>\u001b[0m \u001b[39mexcept\u001b[39;00m \u001b[39mException\u001b[39;00m \u001b[39mas\u001b[39;00m e:\n\u001b[1;32m----> <a href='vscode-notebook-cell:/d%3A/ml_project/HourlyConsumptionPred/research/01_data_ingestion.ipynb#X12sZmlsZQ%3D%3D?line=7'>8</a>\u001b[0m     \u001b[39mraise\u001b[39;00m e\n",
      "\u001b[1;32md:\\ml_project\\HourlyConsumptionPred\\research\\01_data_ingestion.ipynb Cell 10\u001b[0m line \u001b[0;36m2\n\u001b[0;32m      <a href='vscode-notebook-cell:/d%3A/ml_project/HourlyConsumptionPred/research/01_data_ingestion.ipynb#X12sZmlsZQ%3D%3D?line=0'>1</a>\u001b[0m \u001b[39mtry\u001b[39;00m:\n\u001b[1;32m----> <a href='vscode-notebook-cell:/d%3A/ml_project/HourlyConsumptionPred/research/01_data_ingestion.ipynb#X12sZmlsZQ%3D%3D?line=1'>2</a>\u001b[0m     config \u001b[39m=\u001b[39m ConfigurationManager()\n\u001b[0;32m      <a href='vscode-notebook-cell:/d%3A/ml_project/HourlyConsumptionPred/research/01_data_ingestion.ipynb#X12sZmlsZQ%3D%3D?line=2'>3</a>\u001b[0m     data_ingestion_config \u001b[39m=\u001b[39m config\u001b[39m.\u001b[39mget_data_ingestion_config()\n\u001b[0;32m      <a href='vscode-notebook-cell:/d%3A/ml_project/HourlyConsumptionPred/research/01_data_ingestion.ipynb#X12sZmlsZQ%3D%3D?line=3'>4</a>\u001b[0m     data_ingestion \u001b[39m=\u001b[39m DataIngestion(config\u001b[39m=\u001b[39mdata_ingestion_config)\n",
      "\u001b[1;31mNameError\u001b[0m: name 'ConfigurationManager' is not defined"
     ]
    }
   ],
   "source": [
    "try:\n",
    "    config = ConfigurationManager()\n",
    "    data_ingestion_config = config.get_data_ingestion_config()\n",
    "    data_ingestion = DataIngestion(config=data_ingestion_config)\n",
    "    data_ingestion.initiateDataIngestion()\n",
    "    # data_ingestion.extract_zip_file()\n",
    "except Exception as e:\n",
    "    raise e"
   ]
  },
  {
   "cell_type": "markdown",
   "id": "3dba315d03b3d7e8",
   "metadata": {
    "collapsed": false
   },
   "source": []
  }
 ],
 "metadata": {
  "kernelspec": {
   "display_name": "Python 3",
   "language": "python",
   "name": "python3"
  },
  "language_info": {
   "codemirror_mode": {
    "name": "ipython",
    "version": 3
   },
   "file_extension": ".py",
   "mimetype": "text/x-python",
   "name": "python",
   "nbconvert_exporter": "python",
   "pygments_lexer": "ipython3",
   "version": "3.11.4"
  }
 },
 "nbformat": 4,
 "nbformat_minor": 5
}
