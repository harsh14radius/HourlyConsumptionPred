{
 "cells": [
  {
   "cell_type": "code",
   "execution_count": 1,
   "id": "initial_id",
   "metadata": {
    "collapsed": true,
    "ExecuteTime": {
     "end_time": "2023-10-06T09:29:23.676318600Z",
     "start_time": "2023-10-06T09:29:23.670730Z"
    }
   },
   "outputs": [],
   "source": [
    "import os"
   ]
  },
  {
   "cell_type": "code",
   "execution_count": 2,
   "outputs": [
    {
     "data": {
      "text/plain": "'D:\\\\HourlyConsumptiomXGboost\\\\research'"
     },
     "execution_count": 2,
     "metadata": {},
     "output_type": "execute_result"
    }
   ],
   "source": [
    "%pwd"
   ],
   "metadata": {
    "collapsed": false,
    "ExecuteTime": {
     "end_time": "2023-10-06T09:29:27.156208400Z",
     "start_time": "2023-10-06T09:29:27.137853400Z"
    }
   },
   "id": "bdb9af3b1e5a5f6b"
  },
  {
   "cell_type": "code",
   "execution_count": 3,
   "outputs": [],
   "source": [
    "os.chdir(\"../\")"
   ],
   "metadata": {
    "collapsed": false,
    "ExecuteTime": {
     "end_time": "2023-10-06T09:29:45.442031200Z",
     "start_time": "2023-10-06T09:29:45.396975200Z"
    }
   },
   "id": "9dd3feab72ec9875"
  },
  {
   "cell_type": "code",
   "execution_count": 4,
   "outputs": [
    {
     "data": {
      "text/plain": "'D:\\\\HourlyConsumptiomXGboost'"
     },
     "execution_count": 4,
     "metadata": {},
     "output_type": "execute_result"
    }
   ],
   "source": [
    "%pwd"
   ],
   "metadata": {
    "collapsed": false,
    "ExecuteTime": {
     "end_time": "2023-10-06T09:29:48.834824Z",
     "start_time": "2023-10-06T09:29:48.814408200Z"
    }
   },
   "id": "334e65352c484143"
  },
  {
   "cell_type": "code",
   "execution_count": 7,
   "outputs": [],
   "source": [
    "from dataclasses import dataclass\n",
    "from pathlib import Path"
   ],
   "metadata": {
    "collapsed": false,
    "ExecuteTime": {
     "end_time": "2023-10-06T09:31:43.800501Z",
     "start_time": "2023-10-06T09:31:43.781178600Z"
    }
   },
   "id": "df001330b03b1608"
  },
  {
   "cell_type": "code",
   "execution_count": null,
   "outputs": [],
   "source": [
    "@dataclass(frozen=True)\n",
    "class data_validation_congig:\n",
    "    root_dir = Path\n",
    "    unzip_data_dir = Path\n",
    "    STATUS_FILE = str"
   ],
   "metadata": {
    "collapsed": false
   },
   "id": "ff54ade2faee66eb"
  }
 ],
 "metadata": {
  "kernelspec": {
   "display_name": "Python 3",
   "language": "python",
   "name": "python3"
  },
  "language_info": {
   "codemirror_mode": {
    "name": "ipython",
    "version": 2
   },
   "file_extension": ".py",
   "mimetype": "text/x-python",
   "name": "python",
   "nbconvert_exporter": "python",
   "pygments_lexer": "ipython2",
   "version": "2.7.6"
  }
 },
 "nbformat": 4,
 "nbformat_minor": 5
}
